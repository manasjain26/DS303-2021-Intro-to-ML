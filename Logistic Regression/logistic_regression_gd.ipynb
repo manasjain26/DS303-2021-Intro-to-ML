{
 "cells": [
  {
   "cell_type": "markdown",
   "metadata": {},
   "source": [
    "# Logistic Regression using Gradient Descent from scratch\n",
    "In this notebook we will be training a logistic regression classifier with gradient descent from scratch. The goal of this notebook is to familiarize you with the calculation of gradients and weight updates. We will evaluate our model on the PIMA Indians Diabetes Database (https://www.kaggle.com/uciml/pima-indians-diabetes-database)"
   ]
  },
  {
   "cell_type": "code",
   "execution_count": 1,
   "metadata": {},
   "outputs": [],
   "source": [
    "#Imports\n",
    "import numpy as np\n",
    "import pandas as pd\n",
    "from matplotlib import pyplot as plt\n",
    "from sklearn.model_selection import train_test_split\n",
    "from sklearn.preprocessing import StandardScaler\n",
    "from sklearn.metrics import accuracy_score, f1_score, classification_report, confusion_matrix, ConfusionMatrixDisplay"
   ]
  },
  {
   "cell_type": "code",
   "execution_count": 2,
   "metadata": {},
   "outputs": [
    {
     "name": "stdout",
     "output_type": "stream",
     "text": [
      "Sample entries in the dataset:\n"
     ]
    },
    {
     "data": {
      "text/html": [
       "<div>\n",
       "<style scoped>\n",
       "    .dataframe tbody tr th:only-of-type {\n",
       "        vertical-align: middle;\n",
       "    }\n",
       "\n",
       "    .dataframe tbody tr th {\n",
       "        vertical-align: top;\n",
       "    }\n",
       "\n",
       "    .dataframe thead th {\n",
       "        text-align: right;\n",
       "    }\n",
       "</style>\n",
       "<table border=\"1\" class=\"dataframe\">\n",
       "  <thead>\n",
       "    <tr style=\"text-align: right;\">\n",
       "      <th></th>\n",
       "      <th>Pregnancies</th>\n",
       "      <th>Glucose</th>\n",
       "      <th>BloodPressure</th>\n",
       "      <th>SkinThickness</th>\n",
       "      <th>Insulin</th>\n",
       "      <th>BMI</th>\n",
       "      <th>DiabetesPedigreeFunction</th>\n",
       "      <th>Age</th>\n",
       "      <th>Outcome</th>\n",
       "    </tr>\n",
       "  </thead>\n",
       "  <tbody>\n",
       "    <tr>\n",
       "      <th>0</th>\n",
       "      <td>6</td>\n",
       "      <td>148</td>\n",
       "      <td>72</td>\n",
       "      <td>35</td>\n",
       "      <td>0</td>\n",
       "      <td>33.6</td>\n",
       "      <td>0.627</td>\n",
       "      <td>50</td>\n",
       "      <td>1</td>\n",
       "    </tr>\n",
       "    <tr>\n",
       "      <th>1</th>\n",
       "      <td>1</td>\n",
       "      <td>85</td>\n",
       "      <td>66</td>\n",
       "      <td>29</td>\n",
       "      <td>0</td>\n",
       "      <td>26.6</td>\n",
       "      <td>0.351</td>\n",
       "      <td>31</td>\n",
       "      <td>0</td>\n",
       "    </tr>\n",
       "    <tr>\n",
       "      <th>2</th>\n",
       "      <td>8</td>\n",
       "      <td>183</td>\n",
       "      <td>64</td>\n",
       "      <td>0</td>\n",
       "      <td>0</td>\n",
       "      <td>23.3</td>\n",
       "      <td>0.672</td>\n",
       "      <td>32</td>\n",
       "      <td>1</td>\n",
       "    </tr>\n",
       "    <tr>\n",
       "      <th>3</th>\n",
       "      <td>1</td>\n",
       "      <td>89</td>\n",
       "      <td>66</td>\n",
       "      <td>23</td>\n",
       "      <td>94</td>\n",
       "      <td>28.1</td>\n",
       "      <td>0.167</td>\n",
       "      <td>21</td>\n",
       "      <td>0</td>\n",
       "    </tr>\n",
       "    <tr>\n",
       "      <th>4</th>\n",
       "      <td>0</td>\n",
       "      <td>137</td>\n",
       "      <td>40</td>\n",
       "      <td>35</td>\n",
       "      <td>168</td>\n",
       "      <td>43.1</td>\n",
       "      <td>2.288</td>\n",
       "      <td>33</td>\n",
       "      <td>1</td>\n",
       "    </tr>\n",
       "  </tbody>\n",
       "</table>\n",
       "</div>"
      ],
      "text/plain": [
       "   Pregnancies  Glucose  BloodPressure  SkinThickness  Insulin   BMI  \\\n",
       "0            6      148             72             35        0  33.6   \n",
       "1            1       85             66             29        0  26.6   \n",
       "2            8      183             64              0        0  23.3   \n",
       "3            1       89             66             23       94  28.1   \n",
       "4            0      137             40             35      168  43.1   \n",
       "\n",
       "   DiabetesPedigreeFunction  Age  Outcome  \n",
       "0                     0.627   50        1  \n",
       "1                     0.351   31        0  \n",
       "2                     0.672   32        1  \n",
       "3                     0.167   21        0  \n",
       "4                     2.288   33        1  "
      ]
     },
     "execution_count": 2,
     "metadata": {},
     "output_type": "execute_result"
    }
   ],
   "source": [
    "#Load the dataset\n",
    "dataset = pd.read_csv('./diabetes.csv', header='infer')\n",
    "print(\"Sample entries in the dataset:\")\n",
    "dataset.head(5)"
   ]
  },
  {
   "cell_type": "code",
   "execution_count": 3,
   "metadata": {},
   "outputs": [
    {
     "name": "stdout",
     "output_type": "stream",
     "text": [
      "Shape of training dataset: (614, 8)\n",
      "Shape of test dataset: (154, 8)\n"
     ]
    }
   ],
   "source": [
    "#Train-Test split\n",
    "\n",
    "# Following an 80-20 split on data.\n",
    "# The dataset is shuffled with 99 as the random seed for reproducible results.\n",
    "np_dataset = np.array(dataset)\n",
    "X = np_dataset[:,:-1]\n",
    "y = np_dataset[:,-1]\n",
    "X_train,X_test,y_train,y_test = train_test_split(X,y,shuffle=True,test_size=0.20,random_state=99)\n",
    "print(\"Shape of training dataset:\",X_train.shape)\n",
    "print(\"Shape of test dataset:\",X_test.shape)"
   ]
  },
  {
   "cell_type": "code",
   "execution_count": 4,
   "metadata": {},
   "outputs": [],
   "source": [
    "#Feature Normalization\n",
    "# Refer to https://scikit-learn.org/stable/modules/preprocessing.html#standardization-or-mean-removal-and-variance-scaling\n",
    "scaler = StandardScaler()\n",
    "scaler.fit(X_train)\n",
    "X_train = scaler.transform(X_train)\n",
    "X_test = scaler.transform(X_test)\n",
    "\n",
    "#Adding x0 = 1 to each instance for the bias term\n",
    "X_train = np.concatenate((np.ones((X_train.shape[0],1)),X_train),axis=1)\n",
    "X_test = np.concatenate((np.ones((X_test.shape[0],1)),X_test),axis=1)"
   ]
  },
  {
   "cell_type": "markdown",
   "metadata": {},
   "source": [
    "## Gradient Descent Algorithm \n",
    "\n",
    "For the logistic regression model:\n",
    "\n",
    "$$\n",
    "P\\left(y=1\\right) = h = \\sigma({w}^{\\top} {x})\n",
    "$$\n",
    "where $ \\sigma = \\frac {1}{1+\\exp (-x)} $\n",
    "\n",
    "And the loss function is given by \n",
    "\n",
    "$$\n",
    "\\mathcal{L} = -\\frac{1}{m} \\sum_{i=1}^{m} \\left(y^i\\log(h^i) + (1-y^i)\\log(1-h^i)\\right)\n",
    "$$\n",
    "\n",
    "with $ h^i = \\sigma({w}^{\\top} {x^i}) $ and $x^i$ and $y^i$ being the i-th datapoint and label respectively\n",
    "\n",
    "The gradient of the loss function with respect to $w$ is given by\n",
    "\n",
    "$$\n",
    "\\forall j \\space \\frac{\\partial \\mathcal{L}}{\\partial w_j} = \\frac{1}{m} \\sum_{i=1}^{m} ((h^i-y^i)x_j^i)\n",
    "$$\n",
    "\n",
    "Here $x_j^i$ refers to the j-th feature of the i-th datapoint. Using this gradient, we can run the gradient descent algorithm\n",
    "$$\n",
    "w^{(t+1)}_j = w^{(t)}_j - \\alpha \\frac{\\partial \\mathcal{L}}{\\partial w_j^{(t)}}\n",
    "$$\n",
    "until the convergence of $w$ to get the optimal weight vector"
   ]
  },
  {
   "cell_type": "code",
   "execution_count": 5,
   "metadata": {
    "scrolled": true
   },
   "outputs": [
    {
     "name": "stdout",
     "output_type": "stream",
     "text": [
      "Iteration: 100 Training Loss: 0.494028\n",
      "Iteration: 200 Training Loss: 0.476671\n",
      "Iteration: 300 Training Loss: 0.474622\n",
      "Iteration: 400 Training Loss: 0.474236\n",
      "Iteration: 500 Training Loss: 0.474152\n",
      "Iteration: 600 Training Loss: 0.474133\n",
      "Iteration: 700 Training Loss: 0.474128\n",
      "Iteration: 800 Training Loss: 0.474127\n",
      "Iteration: 900 Training Loss: 0.474127\n",
      "Iteration: 1000 Training Loss: 0.474127\n",
      "Iteration: 1100 Training Loss: 0.474127\n",
      "Iteration: 1200 Training Loss: 0.474127\n",
      "Iteration: 1300 Training Loss: 0.474127\n",
      "Iteration: 1400 Training Loss: 0.474127\n",
      "Iteration: 1500 Training Loss: 0.474127\n",
      "Iteration: 1600 Training Loss: 0.474127\n",
      "Iteration: 1700 Training Loss: 0.474127\n",
      "Iteration: 1800 Training Loss: 0.474127\n",
      "Iteration: 1900 Training Loss: 0.474127\n",
      "Converged!\n"
     ]
    }
   ],
   "source": [
    "def sigmoid(x):\n",
    "    return 1/(1+np.exp(-x))\n",
    "\n",
    "\n",
    "#Gradient Descent Algorithm\n",
    "alpha = 0.1\n",
    "num_samples,num_features = X_train.shape\n",
    "np.random.seed(99)\n",
    "w_old = np.random.rand(num_features) #Random initialization of the initial weight vector\n",
    "i=0\n",
    "while True:\n",
    "    h = sigmoid(X_train@w_old)\n",
    "    loss = -(y_train.T@np.log(h) + (1-y_train).T@np.log(1-h))/num_samples\n",
    "    if (i+1)%100 == 0:\n",
    "        print(\"Iteration:\",i+1,\"Training Loss:\",\"{:.6f}\".format(loss))\n",
    "    gradient = X_train.T@(h-y_train)/num_samples\n",
    "    w_new = w_old-alpha*gradient\n",
    "    if np.linalg.norm(w_old-w_new)<1e-8:\n",
    "        print(\"Converged!\")\n",
    "        break\n",
    "    w_old = w_new\n",
    "    i+=1"
   ]
  },
  {
   "cell_type": "code",
   "execution_count": 6,
   "metadata": {},
   "outputs": [
    {
     "name": "stdout",
     "output_type": "stream",
     "text": [
      "Accuracy: 0.7922077922077922\n",
      "F1 score: 0.6190476190476191\n"
     ]
    },
    {
     "data": {
      "text/plain": [
       "<sklearn.metrics._plot.confusion_matrix.ConfusionMatrixDisplay at 0x7f7ae41fa160>"
      ]
     },
     "execution_count": 6,
     "metadata": {},
     "output_type": "execute_result"
    },
    {
     "data": {
      "image/png": "[encoded data removed]",
      "text/plain": [
       "<Figure size 432x288 with 2 Axes>"
      ]
     },
     "metadata": {
      "needs_background": "light"
     },
     "output_type": "display_data"
    }
   ],
   "source": [
    "#Evaluation on test data\n",
    "y_pred = ((X_test@w_old)>0.5).astype(int)\n",
    "print(\"Accuracy:\",accuracy_score(y_test,y_pred))\n",
    "print(\"F1 score:\",f1_score(y_test,y_pred))\n",
    "\n",
    "# Confusion Matrix\n",
    "class_labels = dataset['Outcome'].unique()\n",
    "cm = confusion_matrix(y_test, y_pred, labels=class_labels)\n",
    "disp = ConfusionMatrixDisplay(confusion_matrix=cm, display_labels=class_labels)\n",
    "disp.plot()"
   ]
  }
 ],
 "metadata": {
  "kernelspec": {
   "display_name": "ds303",
   "language": "python",
   "name": "ds303"
  },
  "language_info": {
   "codemirror_mode": {
    "name": "ipython",
    "version": 3
   },
   "file_extension": ".py",
   "mimetype": "text/x-python",
   "name": "python",
   "nbconvert_exporter": "python",
   "pygments_lexer": "ipython3",
   "version": "3.8.5"
  }
 },
 "nbformat": 4,
 "nbformat_minor": 2
}
