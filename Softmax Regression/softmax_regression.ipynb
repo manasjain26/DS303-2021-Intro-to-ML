{
 "cells": [
  {
   "cell_type": "markdown",
   "metadata": {},
   "source": [
    "# Softmax Regression\n",
    "\n",
    "This notebook demonstrates the Softmax function as the mutli-class extension of Logistic Regression. The softmax function takes a vector of real valued ouputs and converts them to a multinomial probablity distribution.\n",
    "\n",
    "In general the Softmax layer can be applied to different models, for example a multi-layer perceptron. In this notebook, we are using a linear model to classify the type of wines [0-2] based on various quantitative attributes."
   ]
  },
  {
   "cell_type": "code",
   "execution_count": 1,
   "metadata": {},
   "outputs": [],
   "source": [
    "# Imports\n",
    "import pandas as pd\n",
    "import numpy as np\n",
    "from matplotlib import pyplot as plt\n",
    "from sklearn import datasets\n",
    "from sklearn.preprocessing import StandardScaler\n",
    "from sklearn.linear_model import LogisticRegression\n",
    "from sklearn.model_selection import train_test_split\n",
    "from sklearn.metrics import classification_report, confusion_matrix, ConfusionMatrixDisplay\n",
    "import seaborn as sns"
   ]
  },
  {
   "cell_type": "code",
   "execution_count": 2,
   "metadata": {},
   "outputs": [],
   "source": [
    "sns.set_theme()"
   ]
  },
  {
   "cell_type": "markdown",
   "metadata": {},
   "source": [
    "### Dataset Setup"
   ]
  },
  {
   "cell_type": "code",
   "execution_count": 3,
   "metadata": {},
   "outputs": [
    {
     "name": "stdout",
     "output_type": "stream",
     "text": [
      "<class 'pandas.core.frame.DataFrame'>\n",
      "RangeIndex: 178 entries, 0 to 177\n",
      "Data columns (total 14 columns):\n",
      "alcohol                         178 non-null float64\n",
      "malic_acid                      178 non-null float64\n",
      "ash                             178 non-null float64\n",
      "alcalinity_of_ash               178 non-null float64\n",
      "magnesium                       178 non-null float64\n",
      "total_phenols                   178 non-null float64\n",
      "flavanoids                      178 non-null float64\n",
      "nonflavanoid_phenols            178 non-null float64\n",
      "proanthocyanins                 178 non-null float64\n",
      "color_intensity                 178 non-null float64\n",
      "hue                             178 non-null float64\n",
      "od280/od315_of_diluted_wines    178 non-null float64\n",
      "proline                         178 non-null float64\n",
      "label                           178 non-null int64\n",
      "dtypes: float64(13), int64(1)\n",
      "memory usage: 19.6 KB\n"
     ]
    }
   ],
   "source": [
    "# Wine dataset is a built-in sklearn dataset.\n",
    "wine = datasets.load_wine()\n",
    "\n",
    "# extract input features and targets\n",
    "X = pd.DataFrame(wine.data,columns=wine.feature_names)\n",
    "y = pd.DataFrame(wine.target,columns=['label'])\n",
    "\n",
    "# concat X and y to form the entire dataset\n",
    "dataset = pd.concat((X, y),axis=1)\n",
    "\n",
    "# Verify loaded dataset\n",
    "dataset.info()"
   ]
  },
  {
   "cell_type": "code",
   "execution_count": 4,
   "metadata": {},
   "outputs": [
    {
     "name": "stdout",
     "output_type": "stream",
     "text": [
      "   alcohol  malic_acid   ash  alcalinity_of_ash  magnesium  total_phenols  \\\n",
      "0    14.23        1.71  2.43               15.6      127.0           2.80   \n",
      "1    13.20        1.78  2.14               11.2      100.0           2.65   \n",
      "2    13.16        2.36  2.67               18.6      101.0           2.80   \n",
      "3    14.37        1.95  2.50               16.8      113.0           3.85   \n",
      "4    13.24        2.59  2.87               21.0      118.0           2.80   \n",
      "\n",
      "   flavanoids  nonflavanoid_phenols  proanthocyanins  color_intensity   hue  \\\n",
      "0        3.06                  0.28             2.29             5.64  1.04   \n",
      "1        2.76                  0.26             1.28             4.38  1.05   \n",
      "2        3.24                  0.30             2.81             5.68  1.03   \n",
      "3        3.49                  0.24             2.18             7.80  0.86   \n",
      "4        2.69                  0.39             1.82             4.32  1.04   \n",
      "\n",
      "   od280/od315_of_diluted_wines  proline  label  \n",
      "0                          3.92   1065.0      0  \n",
      "1                          3.40   1050.0      0  \n",
      "2                          3.17   1185.0      0  \n",
      "3                          3.45   1480.0      0  \n",
      "4                          2.93    735.0      0  \n"
     ]
    }
   ],
   "source": [
    "# Some sample entries in the data\n",
    "print(dataset.head(5))"
   ]
  },
  {
   "cell_type": "code",
   "execution_count": 5,
   "metadata": {},
   "outputs": [
    {
     "name": "stdout",
     "output_type": "stream",
     "text": [
      "Classes in dataset: \n",
      "[0 1 2]\n",
      "\n",
      "\n",
      "Class-wise Attribute Averages\n",
      "         alcohol  malic_acid       ash  alcalinity_of_ash   magnesium  \\\n",
      "label                                                                   \n",
      "0      13.744746    2.010678  2.455593          17.037288  106.338983   \n",
      "1      12.278732    1.932676  2.244789          20.238028   94.549296   \n",
      "2      13.153750    3.333750  2.437083          21.416667   99.312500   \n",
      "\n",
      "       total_phenols  flavanoids  nonflavanoid_phenols  proanthocyanins  \\\n",
      "label                                                                     \n",
      "0           2.840169    2.982373              0.290000         1.899322   \n",
      "1           2.258873    2.080845              0.363662         1.630282   \n",
      "2           1.678750    0.781458              0.447500         1.153542   \n",
      "\n",
      "       color_intensity       hue  od280/od315_of_diluted_wines      proline  \n",
      "label                                                                        \n",
      "0             5.528305  1.062034                      3.157797  1115.711864  \n",
      "1             3.086620  1.056282                      2.785352   519.507042  \n",
      "2             7.396250  0.682708                      1.683542   629.895833  \n"
     ]
    }
   ],
   "source": [
    "# dataset statistics \n",
    "def classwise_means(df):\n",
    "    \"\"\"Prints classwise averages for attributes present in the dataset (df).\"\"\"\n",
    "    print('Classes in dataset: ')\n",
    "    class_labels = df['label'].unique()\n",
    "    print(class_labels)\n",
    "    print('\\n')\n",
    "    print('Class-wise Attribute Averages')\n",
    "    print(df.groupby(['label']).mean())\n",
    "\n",
    "classwise_means(pd.concat((X, y), axis=1))"
   ]
  },
  {
   "cell_type": "code",
   "execution_count": 6,
   "metadata": {},
   "outputs": [
    {
     "data": {
      "image/png": "[encoded data removed]",
      "text/plain": [
       "<Figure size 432x288 with 1 Axes>"
      ]
     },
     "metadata": {},
     "output_type": "display_data"
    }
   ],
   "source": [
    "# Distribution of samples across classes\n",
    "sns.countplot(x='label', data=dataset)\n",
    "plt.show()"
   ]
  },
  {
   "cell_type": "markdown",
   "metadata": {},
   "source": [
    "### Dataset Processing"
   ]
  },
  {
   "cell_type": "code",
   "execution_count": 7,
   "metadata": {},
   "outputs": [
    {
     "name": "stdout",
     "output_type": "stream",
     "text": [
      "Number of train samples:  142\n",
      "Number of test samples:  36\n"
     ]
    }
   ],
   "source": [
    "# Train-Test split\n",
    "\n",
    "# Following an 80-20 split on data.\n",
    "# The dataset is shuffled with a random seed for reproducible results.\n",
    "X_train, X_test, y_train, y_test = train_test_split(X, y, shuffle=True, random_state=7, test_size=0.20)\n",
    "\n",
    "print(\"Number of train samples: \", len(X_train))\n",
    "print(\"Number of test samples: \", len(X_test))"
   ]
  },
  {
   "cell_type": "code",
   "execution_count": 8,
   "metadata": {},
   "outputs": [],
   "source": [
    "# Feature normalization\n",
    "# Refer to https://scikit-learn.org/stable/modules/preprocessing.html#standardization-or-mean-removal-and-variance-scaling\n",
    "scaler = StandardScaler()\n",
    "scaler.fit(X_train)\n",
    "X_train = scaler.transform(X_train)\n",
    "X_test = scaler.transform(X_test)"
   ]
  },
  {
   "cell_type": "markdown",
   "metadata": {},
   "source": [
    "### Model Training and Predictions\n",
    "\n",
    "#### Multi Class Logistic Regression \n",
    "\n",
    "For a multi_class problem, if multi_class is set to be “multinomial” the softmax function is used to find the predicted probability of each class. \n",
    "\n",
    "The standard (unit) softmax function ${\\displaystyle \\sigma :\\mathbb {R} ^{K}\\to \\mathbb {R} ^{K}}$ is defined by the formula\n",
    "\n",
    "$$\n",
    "\\sigma(\\mathbf{z})_{i}=\\frac{e^{z_{i}}}{\\sum_{j=1}^{K} e^{z_{j}}} \\text { for } i=1, \\ldots, K \\text { and } \\mathbf{z}=\\left(z_{1}, \\ldots, z_{K}\\right) \\in \\mathbb{R}^{K}\n",
    "$$\n",
    "\n",
    "$\\sigma(\\mathbf{z})_{i}$ denotes the predicted probabilty of an example belonging to the $i^{th}$ class. \n",
    "\n",
    "Thus for multiclass logistic regression (linear model) - \n",
    "$$\n",
    "P(y=i \\mid \\mathbf{x})=\\frac{e^{\\mathbf{x}^{\\top} \\mathbf{w}_{j}}}{\\sum_{k=1}^{K} e^{\\mathbf{x}^{\\top} \\mathbf{w}_{k}}}\n",
    "$$"
   ]
  },
  {
   "cell_type": "code",
   "execution_count": 9,
   "metadata": {},
   "outputs": [
    {
     "data": {
      "text/plain": [
       "LogisticRegression(max_iter=10000, multi_class='multinomial', tol=1e-06)"
      ]
     },
     "execution_count": 9,
     "metadata": {},
     "output_type": "execute_result"
    }
   ],
   "source": [
    "# Fit model to training data\n",
    "classifier = LogisticRegression(multi_class='multinomial', penalty='l2', tol=1e-6, max_iter=10000)\n",
    "classifier.fit(X_train, np.squeeze(y_train))"
   ]
  },
  {
   "cell_type": "code",
   "execution_count": 10,
   "metadata": {},
   "outputs": [],
   "source": [
    "# Evaluate on test data \n",
    "y_pred = classifier.predict(X_test)"
   ]
  },
  {
   "cell_type": "markdown",
   "metadata": {},
   "source": [
    "### Model Performance "
   ]
  },
  {
   "cell_type": "code",
   "execution_count": 11,
   "metadata": {},
   "outputs": [
    {
     "data": {
      "text/plain": [
       "<sklearn.metrics._plot.confusion_matrix.ConfusionMatrixDisplay at 0x7fa17c68f8d0>"
      ]
     },
     "execution_count": 11,
     "metadata": {},
     "output_type": "execute_result"
    },
    {
     "data": {
      "image/png": "[encoded data removed]",
      "text/plain": [
       "<Figure size 640x480 with 2 Axes>"
      ]
     },
     "metadata": {},
     "output_type": "display_data"
    }
   ],
   "source": [
    "# Confusion Matrix\n",
    "class_labels = dataset['label'].unique()\n",
    "cm = confusion_matrix(y_test, y_pred, labels=class_labels)\n",
    "disp = ConfusionMatrixDisplay(confusion_matrix=cm, display_labels=class_labels)\n",
    "# switch off Seaborn theme for CM plot\n",
    "sns.reset_orig()\n",
    "disp.plot()"
   ]
  },
  {
   "cell_type": "code",
   "execution_count": 12,
   "metadata": {},
   "outputs": [
    {
     "name": "stdout",
     "output_type": "stream",
     "text": [
      "              precision    recall  f1-score   support\n",
      "\n",
      "           0       1.00      1.00      1.00         7\n",
      "           1       0.94      1.00      0.97        17\n",
      "           2       1.00      0.92      0.96        12\n",
      "\n",
      "    accuracy                           0.97        36\n",
      "   macro avg       0.98      0.97      0.98        36\n",
      "weighted avg       0.97      0.97      0.97        36\n",
      "\n"
     ]
    }
   ],
   "source": [
    "# Performance Statistics\n",
    "print(classification_report(y_test, y_pred))"
   ]
  },
  {
   "cell_type": "markdown",
   "metadata": {},
   "source": [
    "The Softmax Regression model is able to obtain 97% accuracy on the test set. "
   ]
  },
  {
   "cell_type": "code",
   "execution_count": null,
   "metadata": {},
   "outputs": [],
   "source": []
  }
 ],
 "metadata": {
  "kernelspec": {
   "display_name": "dextr",
   "language": "python",
   "name": "dextr"
  },
  "language_info": {
   "codemirror_mode": {
    "name": "ipython",
    "version": 3
   },
   "file_extension": ".py",
   "mimetype": "text/x-python",
   "name": "python",
   "nbconvert_exporter": "python",
   "pygments_lexer": "ipython3",
   "version": "3.6.8"
  }
 },
 "nbformat": 4,
 "nbformat_minor": 4
}
