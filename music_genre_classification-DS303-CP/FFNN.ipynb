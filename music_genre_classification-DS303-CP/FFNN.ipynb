{
  "nbformat": 4,
  "nbformat_minor": 0,
  "metadata": {
    "colab": {
      "name": "FFNN.ipynb",
      "provenance": []
    },
    "kernelspec": {
      "name": "python3",
      "display_name": "Python 3"
    },
    "language_info": {
      "name": "python"
    }
  },
  "cells": [
    {
      "cell_type": "code",
      "metadata": {
        "id": "NUiiIrSs9LkX"
      },
      "source": [
        "import pandas as pd\n",
        "import numpy as np\n",
        "import matplotlib.pyplot as plt\n",
        "import scipy\n",
        "import sys\n",
        "import os\n",
        "import pickle\n",
        "import librosa\n",
        "import librosa.display\n",
        "from IPython.display import Audio\n",
        "from sklearn.model_selection import train_test_split\n",
        "from sklearn.preprocessing import LabelEncoder\n",
        "import tensorflow as tf\n",
        "from tensorflow import keras"
      ],
      "execution_count": 12,
      "outputs": []
    },
    {
      "cell_type": "code",
      "metadata": {
        "id": "My7UF8UD8ROF"
      },
      "source": [
        "from keras import layers\n",
        "import keras"
      ],
      "execution_count": 13,
      "outputs": []
    },
    {
      "cell_type": "code",
      "metadata": {
        "colab": {
          "base_uri": "https://localhost:8080/",
          "height": 222
        },
        "id": "e187kB188rBB",
        "outputId": "641dc338-7d89-4408-af32-f923fea4a155"
      },
      "source": [
        "df1 = pd.read_csv('/content/features_3_sec.csv')\n",
        "df1.head()"
      ],
      "execution_count": 15,
      "outputs": [
        {
          "output_type": "execute_result",
          "data": {
            "text/html": [
              "<div>\n",
              "<style scoped>\n",
              "    .dataframe tbody tr th:only-of-type {\n",
              "        vertical-align: middle;\n",
              "    }\n",
              "\n",
              "    .dataframe tbody tr th {\n",
              "        vertical-align: top;\n",
              "    }\n",
              "\n",
              "    .dataframe thead th {\n",
              "        text-align: right;\n",
              "    }\n",
              "</style>\n",
              "<table border=\"1\" class=\"dataframe\">\n",
              "  <thead>\n",
              "    <tr style=\"text-align: right;\">\n",
              "      <th></th>\n",
              "      <th>filename</th>\n",
              "      <th>length</th>\n",
              "      <th>chroma_stft_mean</th>\n",
              "      <th>chroma_stft_var</th>\n",
              "      <th>rms_mean</th>\n",
              "      <th>rms_var</th>\n",
              "      <th>spectral_centroid_mean</th>\n",
              "      <th>spectral_centroid_var</th>\n",
              "      <th>spectral_bandwidth_mean</th>\n",
              "      <th>spectral_bandwidth_var</th>\n",
              "      <th>rolloff_mean</th>\n",
              "      <th>rolloff_var</th>\n",
              "      <th>zero_crossing_rate_mean</th>\n",
              "      <th>zero_crossing_rate_var</th>\n",
              "      <th>harmony_mean</th>\n",
              "      <th>harmony_var</th>\n",
              "      <th>perceptr_mean</th>\n",
              "      <th>perceptr_var</th>\n",
              "      <th>tempo</th>\n",
              "      <th>mfcc1_mean</th>\n",
              "      <th>mfcc1_var</th>\n",
              "      <th>mfcc2_mean</th>\n",
              "      <th>mfcc2_var</th>\n",
              "      <th>mfcc3_mean</th>\n",
              "      <th>mfcc3_var</th>\n",
              "      <th>mfcc4_mean</th>\n",
              "      <th>mfcc4_var</th>\n",
              "      <th>mfcc5_mean</th>\n",
              "      <th>mfcc5_var</th>\n",
              "      <th>mfcc6_mean</th>\n",
              "      <th>mfcc6_var</th>\n",
              "      <th>mfcc7_mean</th>\n",
              "      <th>mfcc7_var</th>\n",
              "      <th>mfcc8_mean</th>\n",
              "      <th>mfcc8_var</th>\n",
              "      <th>mfcc9_mean</th>\n",
              "      <th>mfcc9_var</th>\n",
              "      <th>mfcc10_mean</th>\n",
              "      <th>mfcc10_var</th>\n",
              "      <th>mfcc11_mean</th>\n",
              "      <th>mfcc11_var</th>\n",
              "      <th>mfcc12_mean</th>\n",
              "      <th>mfcc12_var</th>\n",
              "      <th>mfcc13_mean</th>\n",
              "      <th>mfcc13_var</th>\n",
              "      <th>mfcc14_mean</th>\n",
              "      <th>mfcc14_var</th>\n",
              "      <th>mfcc15_mean</th>\n",
              "      <th>mfcc15_var</th>\n",
              "      <th>mfcc16_mean</th>\n",
              "      <th>mfcc16_var</th>\n",
              "      <th>mfcc17_mean</th>\n",
              "      <th>mfcc17_var</th>\n",
              "      <th>mfcc18_mean</th>\n",
              "      <th>mfcc18_var</th>\n",
              "      <th>mfcc19_mean</th>\n",
              "      <th>mfcc19_var</th>\n",
              "      <th>mfcc20_mean</th>\n",
              "      <th>mfcc20_var</th>\n",
              "      <th>label</th>\n",
              "    </tr>\n",
              "  </thead>\n",
              "  <tbody>\n",
              "    <tr>\n",
              "      <th>0</th>\n",
              "      <td>blues.00000.0.wav</td>\n",
              "      <td>66149</td>\n",
              "      <td>0.335406</td>\n",
              "      <td>0.091048</td>\n",
              "      <td>0.130405</td>\n",
              "      <td>0.003521</td>\n",
              "      <td>1773.065032</td>\n",
              "      <td>167541.630869</td>\n",
              "      <td>1972.744388</td>\n",
              "      <td>117335.771563</td>\n",
              "      <td>3714.560359</td>\n",
              "      <td>1.080790e+06</td>\n",
              "      <td>0.081851</td>\n",
              "      <td>0.000558</td>\n",
              "      <td>-0.000078</td>\n",
              "      <td>0.008354</td>\n",
              "      <td>-0.000068</td>\n",
              "      <td>0.005535</td>\n",
              "      <td>129.199219</td>\n",
              "      <td>-118.627914</td>\n",
              "      <td>2440.286621</td>\n",
              "      <td>125.083626</td>\n",
              "      <td>260.956909</td>\n",
              "      <td>-23.443724</td>\n",
              "      <td>364.081726</td>\n",
              "      <td>41.321484</td>\n",
              "      <td>181.694855</td>\n",
              "      <td>-5.976108</td>\n",
              "      <td>152.963135</td>\n",
              "      <td>20.115141</td>\n",
              "      <td>75.652298</td>\n",
              "      <td>-16.045410</td>\n",
              "      <td>40.227104</td>\n",
              "      <td>17.855198</td>\n",
              "      <td>84.320282</td>\n",
              "      <td>-14.633434</td>\n",
              "      <td>83.437233</td>\n",
              "      <td>10.270527</td>\n",
              "      <td>97.001335</td>\n",
              "      <td>-9.708279</td>\n",
              "      <td>66.669891</td>\n",
              "      <td>10.183875</td>\n",
              "      <td>45.103611</td>\n",
              "      <td>-4.681614</td>\n",
              "      <td>34.169498</td>\n",
              "      <td>8.417439</td>\n",
              "      <td>48.269444</td>\n",
              "      <td>-7.233477</td>\n",
              "      <td>42.770947</td>\n",
              "      <td>-2.853603</td>\n",
              "      <td>39.687145</td>\n",
              "      <td>-3.241280</td>\n",
              "      <td>36.488243</td>\n",
              "      <td>0.722209</td>\n",
              "      <td>38.099152</td>\n",
              "      <td>-5.050335</td>\n",
              "      <td>33.618073</td>\n",
              "      <td>-0.243027</td>\n",
              "      <td>43.771767</td>\n",
              "      <td>blues</td>\n",
              "    </tr>\n",
              "    <tr>\n",
              "      <th>1</th>\n",
              "      <td>blues.00000.1.wav</td>\n",
              "      <td>66149</td>\n",
              "      <td>0.343065</td>\n",
              "      <td>0.086147</td>\n",
              "      <td>0.112699</td>\n",
              "      <td>0.001450</td>\n",
              "      <td>1816.693777</td>\n",
              "      <td>90525.690866</td>\n",
              "      <td>2010.051501</td>\n",
              "      <td>65671.875673</td>\n",
              "      <td>3869.682242</td>\n",
              "      <td>6.722448e+05</td>\n",
              "      <td>0.087173</td>\n",
              "      <td>0.001030</td>\n",
              "      <td>-0.000099</td>\n",
              "      <td>0.004950</td>\n",
              "      <td>-0.000103</td>\n",
              "      <td>0.004854</td>\n",
              "      <td>123.046875</td>\n",
              "      <td>-125.590706</td>\n",
              "      <td>2038.344238</td>\n",
              "      <td>122.421227</td>\n",
              "      <td>216.774185</td>\n",
              "      <td>-20.718019</td>\n",
              "      <td>231.979767</td>\n",
              "      <td>50.128387</td>\n",
              "      <td>142.700409</td>\n",
              "      <td>-11.333302</td>\n",
              "      <td>139.243118</td>\n",
              "      <td>21.385401</td>\n",
              "      <td>77.817947</td>\n",
              "      <td>-15.960796</td>\n",
              "      <td>97.364029</td>\n",
              "      <td>19.454103</td>\n",
              "      <td>57.948093</td>\n",
              "      <td>-12.465918</td>\n",
              "      <td>68.271523</td>\n",
              "      <td>17.898169</td>\n",
              "      <td>56.222176</td>\n",
              "      <td>-11.732554</td>\n",
              "      <td>54.373909</td>\n",
              "      <td>8.145000</td>\n",
              "      <td>40.662876</td>\n",
              "      <td>-7.717751</td>\n",
              "      <td>30.808521</td>\n",
              "      <td>8.397150</td>\n",
              "      <td>48.784225</td>\n",
              "      <td>-8.300493</td>\n",
              "      <td>68.584824</td>\n",
              "      <td>4.074709</td>\n",
              "      <td>64.748276</td>\n",
              "      <td>-6.055294</td>\n",
              "      <td>40.677654</td>\n",
              "      <td>0.159015</td>\n",
              "      <td>51.264091</td>\n",
              "      <td>-2.837699</td>\n",
              "      <td>97.030830</td>\n",
              "      <td>5.784063</td>\n",
              "      <td>59.943081</td>\n",
              "      <td>blues</td>\n",
              "    </tr>\n",
              "    <tr>\n",
              "      <th>2</th>\n",
              "      <td>blues.00000.2.wav</td>\n",
              "      <td>66149</td>\n",
              "      <td>0.346815</td>\n",
              "      <td>0.092243</td>\n",
              "      <td>0.132003</td>\n",
              "      <td>0.004620</td>\n",
              "      <td>1788.539719</td>\n",
              "      <td>111407.437613</td>\n",
              "      <td>2084.565132</td>\n",
              "      <td>75124.921716</td>\n",
              "      <td>3997.639160</td>\n",
              "      <td>7.907127e+05</td>\n",
              "      <td>0.071383</td>\n",
              "      <td>0.000425</td>\n",
              "      <td>-0.000066</td>\n",
              "      <td>0.012476</td>\n",
              "      <td>0.000065</td>\n",
              "      <td>0.004357</td>\n",
              "      <td>123.046875</td>\n",
              "      <td>-132.441940</td>\n",
              "      <td>3798.532227</td>\n",
              "      <td>115.085175</td>\n",
              "      <td>257.321289</td>\n",
              "      <td>-14.811666</td>\n",
              "      <td>192.448074</td>\n",
              "      <td>50.189293</td>\n",
              "      <td>144.166031</td>\n",
              "      <td>-0.680819</td>\n",
              "      <td>128.376892</td>\n",
              "      <td>24.650375</td>\n",
              "      <td>66.371170</td>\n",
              "      <td>-13.506104</td>\n",
              "      <td>89.319336</td>\n",
              "      <td>15.643386</td>\n",
              "      <td>55.253967</td>\n",
              "      <td>-13.216637</td>\n",
              "      <td>120.308784</td>\n",
              "      <td>10.406025</td>\n",
              "      <td>35.757862</td>\n",
              "      <td>-7.991465</td>\n",
              "      <td>47.911613</td>\n",
              "      <td>11.853963</td>\n",
              "      <td>36.569931</td>\n",
              "      <td>-4.677677</td>\n",
              "      <td>40.725075</td>\n",
              "      <td>6.571110</td>\n",
              "      <td>30.686846</td>\n",
              "      <td>-2.424750</td>\n",
              "      <td>50.313499</td>\n",
              "      <td>4.806280</td>\n",
              "      <td>67.336563</td>\n",
              "      <td>-1.768610</td>\n",
              "      <td>28.348579</td>\n",
              "      <td>2.378768</td>\n",
              "      <td>45.717648</td>\n",
              "      <td>-1.938424</td>\n",
              "      <td>53.050835</td>\n",
              "      <td>2.517375</td>\n",
              "      <td>33.105122</td>\n",
              "      <td>blues</td>\n",
              "    </tr>\n",
              "    <tr>\n",
              "      <th>3</th>\n",
              "      <td>blues.00000.3.wav</td>\n",
              "      <td>66149</td>\n",
              "      <td>0.363639</td>\n",
              "      <td>0.086856</td>\n",
              "      <td>0.132565</td>\n",
              "      <td>0.002448</td>\n",
              "      <td>1655.289045</td>\n",
              "      <td>111952.284517</td>\n",
              "      <td>1960.039988</td>\n",
              "      <td>82913.639269</td>\n",
              "      <td>3568.300218</td>\n",
              "      <td>9.216524e+05</td>\n",
              "      <td>0.069426</td>\n",
              "      <td>0.000304</td>\n",
              "      <td>-0.000014</td>\n",
              "      <td>0.008318</td>\n",
              "      <td>0.000018</td>\n",
              "      <td>0.005927</td>\n",
              "      <td>123.046875</td>\n",
              "      <td>-118.231087</td>\n",
              "      <td>2508.781006</td>\n",
              "      <td>132.116501</td>\n",
              "      <td>332.650574</td>\n",
              "      <td>-18.758335</td>\n",
              "      <td>109.357529</td>\n",
              "      <td>39.769306</td>\n",
              "      <td>184.693344</td>\n",
              "      <td>-13.260426</td>\n",
              "      <td>144.398224</td>\n",
              "      <td>20.468134</td>\n",
              "      <td>122.516464</td>\n",
              "      <td>-14.563448</td>\n",
              "      <td>68.937332</td>\n",
              "      <td>18.745104</td>\n",
              "      <td>74.748886</td>\n",
              "      <td>-13.755463</td>\n",
              "      <td>73.868576</td>\n",
              "      <td>12.993759</td>\n",
              "      <td>41.549564</td>\n",
              "      <td>-12.648887</td>\n",
              "      <td>58.540478</td>\n",
              "      <td>10.389314</td>\n",
              "      <td>39.102024</td>\n",
              "      <td>-4.362739</td>\n",
              "      <td>60.714748</td>\n",
              "      <td>9.156193</td>\n",
              "      <td>40.411537</td>\n",
              "      <td>-9.889441</td>\n",
              "      <td>44.666325</td>\n",
              "      <td>-1.359111</td>\n",
              "      <td>47.739452</td>\n",
              "      <td>-3.841155</td>\n",
              "      <td>28.337118</td>\n",
              "      <td>1.218588</td>\n",
              "      <td>34.770935</td>\n",
              "      <td>-3.580352</td>\n",
              "      <td>50.836224</td>\n",
              "      <td>3.630866</td>\n",
              "      <td>32.023678</td>\n",
              "      <td>blues</td>\n",
              "    </tr>\n",
              "    <tr>\n",
              "      <th>4</th>\n",
              "      <td>blues.00000.4.wav</td>\n",
              "      <td>66149</td>\n",
              "      <td>0.335579</td>\n",
              "      <td>0.088129</td>\n",
              "      <td>0.143289</td>\n",
              "      <td>0.001701</td>\n",
              "      <td>1630.656199</td>\n",
              "      <td>79667.267654</td>\n",
              "      <td>1948.503884</td>\n",
              "      <td>60204.020268</td>\n",
              "      <td>3469.992864</td>\n",
              "      <td>6.102111e+05</td>\n",
              "      <td>0.070095</td>\n",
              "      <td>0.000289</td>\n",
              "      <td>0.000041</td>\n",
              "      <td>0.009634</td>\n",
              "      <td>-0.000106</td>\n",
              "      <td>0.005833</td>\n",
              "      <td>123.046875</td>\n",
              "      <td>-105.968376</td>\n",
              "      <td>2118.919922</td>\n",
              "      <td>134.643646</td>\n",
              "      <td>219.562622</td>\n",
              "      <td>-19.961748</td>\n",
              "      <td>171.878754</td>\n",
              "      <td>40.171753</td>\n",
              "      <td>103.120712</td>\n",
              "      <td>-14.271939</td>\n",
              "      <td>102.651230</td>\n",
              "      <td>18.734617</td>\n",
              "      <td>79.070000</td>\n",
              "      <td>-15.619381</td>\n",
              "      <td>48.510284</td>\n",
              "      <td>19.207966</td>\n",
              "      <td>53.642956</td>\n",
              "      <td>-18.274683</td>\n",
              "      <td>95.300995</td>\n",
              "      <td>14.316693</td>\n",
              "      <td>58.821163</td>\n",
              "      <td>-5.792194</td>\n",
              "      <td>55.030254</td>\n",
              "      <td>17.045437</td>\n",
              "      <td>43.229939</td>\n",
              "      <td>-5.681399</td>\n",
              "      <td>46.515259</td>\n",
              "      <td>5.705521</td>\n",
              "      <td>24.956211</td>\n",
              "      <td>-7.986080</td>\n",
              "      <td>39.816933</td>\n",
              "      <td>2.092937</td>\n",
              "      <td>30.336359</td>\n",
              "      <td>0.664582</td>\n",
              "      <td>45.880913</td>\n",
              "      <td>1.689446</td>\n",
              "      <td>51.363583</td>\n",
              "      <td>-3.392489</td>\n",
              "      <td>26.738789</td>\n",
              "      <td>0.536961</td>\n",
              "      <td>29.146694</td>\n",
              "      <td>blues</td>\n",
              "    </tr>\n",
              "  </tbody>\n",
              "</table>\n",
              "</div>"
            ],
            "text/plain": [
              "            filename  length  chroma_stft_mean  ...  mfcc20_mean  mfcc20_var  label\n",
              "0  blues.00000.0.wav   66149          0.335406  ...    -0.243027   43.771767  blues\n",
              "1  blues.00000.1.wav   66149          0.343065  ...     5.784063   59.943081  blues\n",
              "2  blues.00000.2.wav   66149          0.346815  ...     2.517375   33.105122  blues\n",
              "3  blues.00000.3.wav   66149          0.363639  ...     3.630866   32.023678  blues\n",
              "4  blues.00000.4.wav   66149          0.335579  ...     0.536961   29.146694  blues\n",
              "\n",
              "[5 rows x 60 columns]"
            ]
          },
          "metadata": {
            "tags": []
          },
          "execution_count": 15
        }
      ]
    },
    {
      "cell_type": "code",
      "metadata": {
        "colab": {
          "base_uri": "https://localhost:8080/"
        },
        "id": "d9qJs_9x9Fra",
        "outputId": "c8cf4bfc-0ab2-4eb3-cdf5-dd98ea851183"
      },
      "source": [
        "df1.shape"
      ],
      "execution_count": 16,
      "outputs": [
        {
          "output_type": "execute_result",
          "data": {
            "text/plain": [
              "(9990, 60)"
            ]
          },
          "metadata": {
            "tags": []
          },
          "execution_count": 16
        }
      ]
    },
    {
      "cell_type": "code",
      "metadata": {
        "colab": {
          "base_uri": "https://localhost:8080/"
        },
        "id": "iRpWYbJM_UC4",
        "outputId": "f7a2db34-e21c-4b64-973e-5dd62605bbb7"
      },
      "source": [
        "df1.dtypes"
      ],
      "execution_count": 17,
      "outputs": [
        {
          "output_type": "execute_result",
          "data": {
            "text/plain": [
              "filename                    object\n",
              "length                       int64\n",
              "chroma_stft_mean           float64\n",
              "chroma_stft_var            float64\n",
              "rms_mean                   float64\n",
              "rms_var                    float64\n",
              "spectral_centroid_mean     float64\n",
              "spectral_centroid_var      float64\n",
              "spectral_bandwidth_mean    float64\n",
              "spectral_bandwidth_var     float64\n",
              "rolloff_mean               float64\n",
              "rolloff_var                float64\n",
              "zero_crossing_rate_mean    float64\n",
              "zero_crossing_rate_var     float64\n",
              "harmony_mean               float64\n",
              "harmony_var                float64\n",
              "perceptr_mean              float64\n",
              "perceptr_var               float64\n",
              "tempo                      float64\n",
              "mfcc1_mean                 float64\n",
              "mfcc1_var                  float64\n",
              "mfcc2_mean                 float64\n",
              "mfcc2_var                  float64\n",
              "mfcc3_mean                 float64\n",
              "mfcc3_var                  float64\n",
              "mfcc4_mean                 float64\n",
              "mfcc4_var                  float64\n",
              "mfcc5_mean                 float64\n",
              "mfcc5_var                  float64\n",
              "mfcc6_mean                 float64\n",
              "mfcc6_var                  float64\n",
              "mfcc7_mean                 float64\n",
              "mfcc7_var                  float64\n",
              "mfcc8_mean                 float64\n",
              "mfcc8_var                  float64\n",
              "mfcc9_mean                 float64\n",
              "mfcc9_var                  float64\n",
              "mfcc10_mean                float64\n",
              "mfcc10_var                 float64\n",
              "mfcc11_mean                float64\n",
              "mfcc11_var                 float64\n",
              "mfcc12_mean                float64\n",
              "mfcc12_var                 float64\n",
              "mfcc13_mean                float64\n",
              "mfcc13_var                 float64\n",
              "mfcc14_mean                float64\n",
              "mfcc14_var                 float64\n",
              "mfcc15_mean                float64\n",
              "mfcc15_var                 float64\n",
              "mfcc16_mean                float64\n",
              "mfcc16_var                 float64\n",
              "mfcc17_mean                float64\n",
              "mfcc17_var                 float64\n",
              "mfcc18_mean                float64\n",
              "mfcc18_var                 float64\n",
              "mfcc19_mean                float64\n",
              "mfcc19_var                 float64\n",
              "mfcc20_mean                float64\n",
              "mfcc20_var                 float64\n",
              "label                       object\n",
              "dtype: object"
            ]
          },
          "metadata": {
            "tags": []
          },
          "execution_count": 17
        }
      ]
    },
    {
      "cell_type": "code",
      "metadata": {
        "id": "3nK0ZG7XAQAy"
      },
      "source": [
        "df1 = df1.drop(labels='filename',axis=1)"
      ],
      "execution_count": 18,
      "outputs": []
    },
    {
      "cell_type": "code",
      "metadata": {
        "id": "-ejIqesGAj15"
      },
      "source": [
        "genre_list = df1.iloc[:, -1]\n",
        "encoder = LabelEncoder()"
      ],
      "execution_count": 19,
      "outputs": []
    },
    {
      "cell_type": "code",
      "metadata": {
        "id": "gcjeSZiTAraI"
      },
      "source": [
        "y = encoder.fit_transform(genre_list)"
      ],
      "execution_count": 20,
      "outputs": []
    },
    {
      "cell_type": "code",
      "metadata": {
        "colab": {
          "base_uri": "https://localhost:8080/"
        },
        "id": "rnDjngjgAy-Y",
        "outputId": "6c3ccb84-4281-4b84-f49b-8343d6574d52"
      },
      "source": [
        "print(df1.iloc[:, :-1])"
      ],
      "execution_count": 21,
      "outputs": [
        {
          "output_type": "stream",
          "text": [
            "      length  chroma_stft_mean  ...  mfcc20_mean  mfcc20_var\n",
            "0      66149          0.335406  ...    -0.243027   43.771767\n",
            "1      66149          0.343065  ...     5.784063   59.943081\n",
            "2      66149          0.346815  ...     2.517375   33.105122\n",
            "3      66149          0.363639  ...     3.630866   32.023678\n",
            "4      66149          0.335579  ...     0.536961   29.146694\n",
            "...      ...               ...  ...          ...         ...\n",
            "9985   66149          0.349126  ...     1.818823   38.966969\n",
            "9986   66149          0.372564  ...     0.428857   18.697033\n",
            "9987   66149          0.347481  ...    -0.299545   41.586990\n",
            "9988   66149          0.387527  ...     0.675824   12.787750\n",
            "9989   66149          0.369293  ...    -3.412534   31.727489\n",
            "\n",
            "[9990 rows x 58 columns]\n"
          ],
          "name": "stdout"
        }
      ]
    },
    {
      "cell_type": "code",
      "metadata": {
        "id": "inj_0qCZA4yX"
      },
      "source": [
        "from sklearn.preprocessing import StandardScaler\n",
        "scaler = StandardScaler()\n",
        "X = scaler.fit_transform(np.array(df1.iloc[:, :-1], dtype = float))"
      ],
      "execution_count": 22,
      "outputs": []
    },
    {
      "cell_type": "code",
      "metadata": {
        "id": "lLfa-92ECey6"
      },
      "source": [
        "X_train, X_test, y_train, y_test = train_test_split(X, y, test_size=0.33)"
      ],
      "execution_count": 23,
      "outputs": []
    },
    {
      "cell_type": "code",
      "metadata": {
        "id": "GBJLvEQcCljU"
      },
      "source": [
        "from keras.models import Sequential"
      ],
      "execution_count": 24,
      "outputs": []
    },
    {
      "cell_type": "code",
      "metadata": {
        "id": "qhmbjwMCCnsd"
      },
      "source": [
        "# Neural network\n",
        "model = Sequential()\n",
        "model.add(layers.Dense(256, activation='relu', input_shape=(X_train.shape[1],)))\n",
        "model.add(layers.Dense(128, activation='relu'))\n",
        "model.add(layers.Dense(64, activation='relu'))\n",
        "model.add(layers.Dense(10, activation='softmax'))\n",
        "model.compile(optimizer='adam',\n",
        "              loss='sparse_categorical_crossentropy',\n",
        "              metrics=['accuracy'])"
      ],
      "execution_count": 25,
      "outputs": []
    },
    {
      "cell_type": "code",
      "metadata": {
        "colab": {
          "base_uri": "https://localhost:8080/"
        },
        "id": "dAjwI_LlCq-v",
        "outputId": "09737edf-8605-458f-eb02-6b3d3948e659"
      },
      "source": [
        "classifier = model.fit(X_train,\n",
        "                    y_train,\n",
        "                    epochs=100,\n",
        "                    batch_size=128)"
      ],
      "execution_count": 26,
      "outputs": [
        {
          "output_type": "stream",
          "text": [
            "Epoch 1/100\n",
            "53/53 [==============================] - 1s 5ms/step - loss: 1.8255 - accuracy: 0.3563\n",
            "Epoch 2/100\n",
            "53/53 [==============================] - 0s 4ms/step - loss: 0.9605 - accuracy: 0.6688\n",
            "Epoch 3/100\n",
            "53/53 [==============================] - 0s 5ms/step - loss: 0.7209 - accuracy: 0.7593\n",
            "Epoch 4/100\n",
            "53/53 [==============================] - 0s 4ms/step - loss: 0.5660 - accuracy: 0.8055\n",
            "Epoch 5/100\n",
            "53/53 [==============================] - 0s 4ms/step - loss: 0.4945 - accuracy: 0.8348\n",
            "Epoch 6/100\n",
            "53/53 [==============================] - 0s 5ms/step - loss: 0.4118 - accuracy: 0.8662\n",
            "Epoch 7/100\n",
            "53/53 [==============================] - 0s 5ms/step - loss: 0.3733 - accuracy: 0.8823\n",
            "Epoch 8/100\n",
            "53/53 [==============================] - 0s 5ms/step - loss: 0.3142 - accuracy: 0.8971\n",
            "Epoch 9/100\n",
            "53/53 [==============================] - 0s 5ms/step - loss: 0.2681 - accuracy: 0.9181\n",
            "Epoch 10/100\n",
            "53/53 [==============================] - 0s 4ms/step - loss: 0.2177 - accuracy: 0.9402\n",
            "Epoch 11/100\n",
            "53/53 [==============================] - 0s 5ms/step - loss: 0.1881 - accuracy: 0.9510\n",
            "Epoch 12/100\n",
            "53/53 [==============================] - 0s 5ms/step - loss: 0.1696 - accuracy: 0.9560\n",
            "Epoch 13/100\n",
            "53/53 [==============================] - 0s 5ms/step - loss: 0.1254 - accuracy: 0.9700\n",
            "Epoch 14/100\n",
            "53/53 [==============================] - 0s 5ms/step - loss: 0.1141 - accuracy: 0.9749\n",
            "Epoch 15/100\n",
            "53/53 [==============================] - 0s 5ms/step - loss: 0.1037 - accuracy: 0.9723\n",
            "Epoch 16/100\n",
            "53/53 [==============================] - 0s 4ms/step - loss: 0.0832 - accuracy: 0.9838\n",
            "Epoch 17/100\n",
            "53/53 [==============================] - 0s 5ms/step - loss: 0.0746 - accuracy: 0.9841\n",
            "Epoch 18/100\n",
            "53/53 [==============================] - 0s 4ms/step - loss: 0.0610 - accuracy: 0.9887\n",
            "Epoch 19/100\n",
            "53/53 [==============================] - 0s 5ms/step - loss: 0.0470 - accuracy: 0.9934\n",
            "Epoch 20/100\n",
            "53/53 [==============================] - 0s 4ms/step - loss: 0.0382 - accuracy: 0.9950\n",
            "Epoch 21/100\n",
            "53/53 [==============================] - 0s 5ms/step - loss: 0.0388 - accuracy: 0.9944\n",
            "Epoch 22/100\n",
            "53/53 [==============================] - 0s 5ms/step - loss: 0.0316 - accuracy: 0.9965\n",
            "Epoch 23/100\n",
            "53/53 [==============================] - 0s 5ms/step - loss: 0.0239 - accuracy: 0.9974\n",
            "Epoch 24/100\n",
            "53/53 [==============================] - 0s 5ms/step - loss: 0.0208 - accuracy: 0.9971\n",
            "Epoch 25/100\n",
            "53/53 [==============================] - 0s 5ms/step - loss: 0.0196 - accuracy: 0.9976\n",
            "Epoch 26/100\n",
            "53/53 [==============================] - 0s 4ms/step - loss: 0.0155 - accuracy: 0.9991\n",
            "Epoch 27/100\n",
            "53/53 [==============================] - 0s 5ms/step - loss: 0.0132 - accuracy: 0.9984\n",
            "Epoch 28/100\n",
            "53/53 [==============================] - 0s 4ms/step - loss: 0.0127 - accuracy: 0.9988\n",
            "Epoch 29/100\n",
            "53/53 [==============================] - 0s 4ms/step - loss: 0.0127 - accuracy: 0.9985\n",
            "Epoch 30/100\n",
            "53/53 [==============================] - 0s 4ms/step - loss: 0.0110 - accuracy: 0.9988\n",
            "Epoch 31/100\n",
            "53/53 [==============================] - 0s 5ms/step - loss: 0.0122 - accuracy: 0.9984\n",
            "Epoch 32/100\n",
            "53/53 [==============================] - 0s 5ms/step - loss: 0.0093 - accuracy: 0.9985\n",
            "Epoch 33/100\n",
            "53/53 [==============================] - 0s 4ms/step - loss: 0.0098 - accuracy: 0.9987\n",
            "Epoch 34/100\n",
            "53/53 [==============================] - 0s 4ms/step - loss: 0.0073 - accuracy: 0.9994\n",
            "Epoch 35/100\n",
            "53/53 [==============================] - 0s 5ms/step - loss: 0.0076 - accuracy: 0.9990\n",
            "Epoch 36/100\n",
            "53/53 [==============================] - 0s 5ms/step - loss: 0.0074 - accuracy: 0.9992\n",
            "Epoch 37/100\n",
            "53/53 [==============================] - 0s 5ms/step - loss: 0.0047 - accuracy: 0.9998\n",
            "Epoch 38/100\n",
            "53/53 [==============================] - 0s 5ms/step - loss: 0.0068 - accuracy: 0.9987\n",
            "Epoch 39/100\n",
            "53/53 [==============================] - 0s 5ms/step - loss: 0.0078 - accuracy: 0.9983\n",
            "Epoch 40/100\n",
            "53/53 [==============================] - 0s 4ms/step - loss: 0.0065 - accuracy: 0.9986\n",
            "Epoch 41/100\n",
            "53/53 [==============================] - 0s 5ms/step - loss: 0.0076 - accuracy: 0.9987\n",
            "Epoch 42/100\n",
            "53/53 [==============================] - 0s 5ms/step - loss: 0.0060 - accuracy: 0.9988\n",
            "Epoch 43/100\n",
            "53/53 [==============================] - 0s 5ms/step - loss: 0.0045 - accuracy: 0.9995\n",
            "Epoch 44/100\n",
            "53/53 [==============================] - 0s 5ms/step - loss: 0.0141 - accuracy: 0.9959\n",
            "Epoch 45/100\n",
            "53/53 [==============================] - 0s 5ms/step - loss: 0.0633 - accuracy: 0.9821\n",
            "Epoch 46/100\n",
            "53/53 [==============================] - 0s 4ms/step - loss: 0.1945 - accuracy: 0.9373\n",
            "Epoch 47/100\n",
            "53/53 [==============================] - 0s 5ms/step - loss: 0.0509 - accuracy: 0.9844\n",
            "Epoch 48/100\n",
            "53/53 [==============================] - 0s 5ms/step - loss: 0.0191 - accuracy: 0.9964\n",
            "Epoch 49/100\n",
            "53/53 [==============================] - 0s 5ms/step - loss: 0.0081 - accuracy: 0.9995\n",
            "Epoch 50/100\n",
            "53/53 [==============================] - 0s 5ms/step - loss: 0.0063 - accuracy: 0.9987\n",
            "Epoch 51/100\n",
            "53/53 [==============================] - 0s 5ms/step - loss: 0.0040 - accuracy: 0.9990\n",
            "Epoch 52/100\n",
            "53/53 [==============================] - 0s 5ms/step - loss: 0.0073 - accuracy: 0.9977\n",
            "Epoch 53/100\n",
            "53/53 [==============================] - 0s 4ms/step - loss: 0.0037 - accuracy: 0.9994\n",
            "Epoch 54/100\n",
            "53/53 [==============================] - 0s 5ms/step - loss: 0.0054 - accuracy: 0.9987\n",
            "Epoch 55/100\n",
            "53/53 [==============================] - 0s 6ms/step - loss: 0.0060 - accuracy: 0.9990\n",
            "Epoch 56/100\n",
            "53/53 [==============================] - 0s 5ms/step - loss: 0.0049 - accuracy: 0.9992\n",
            "Epoch 57/100\n",
            "53/53 [==============================] - 0s 5ms/step - loss: 0.0031 - accuracy: 0.9993\n",
            "Epoch 58/100\n",
            "53/53 [==============================] - 0s 4ms/step - loss: 0.0034 - accuracy: 0.9993\n",
            "Epoch 59/100\n",
            "53/53 [==============================] - 0s 5ms/step - loss: 0.0027 - accuracy: 0.9991\n",
            "Epoch 60/100\n",
            "53/53 [==============================] - 0s 5ms/step - loss: 0.0031 - accuracy: 0.9993\n",
            "Epoch 61/100\n",
            "53/53 [==============================] - 0s 5ms/step - loss: 0.0017 - accuracy: 0.9997\n",
            "Epoch 62/100\n",
            "53/53 [==============================] - 0s 5ms/step - loss: 0.0022 - accuracy: 0.9993\n",
            "Epoch 63/100\n",
            "53/53 [==============================] - 0s 4ms/step - loss: 0.0045 - accuracy: 0.9991\n",
            "Epoch 64/100\n",
            "53/53 [==============================] - 0s 5ms/step - loss: 0.0046 - accuracy: 0.9987\n",
            "Epoch 65/100\n",
            "53/53 [==============================] - 0s 4ms/step - loss: 0.0024 - accuracy: 0.9999\n",
            "Epoch 66/100\n",
            "53/53 [==============================] - 0s 5ms/step - loss: 0.0046 - accuracy: 0.9981\n",
            "Epoch 67/100\n",
            "53/53 [==============================] - 0s 5ms/step - loss: 0.0023 - accuracy: 0.9995\n",
            "Epoch 68/100\n",
            "53/53 [==============================] - 0s 5ms/step - loss: 0.0029 - accuracy: 0.9991\n",
            "Epoch 69/100\n",
            "53/53 [==============================] - 0s 5ms/step - loss: 0.0034 - accuracy: 0.9993\n",
            "Epoch 70/100\n",
            "53/53 [==============================] - 0s 5ms/step - loss: 0.0028 - accuracy: 0.9992\n",
            "Epoch 71/100\n",
            "53/53 [==============================] - 0s 4ms/step - loss: 0.0039 - accuracy: 0.9992\n",
            "Epoch 72/100\n",
            "53/53 [==============================] - 0s 5ms/step - loss: 0.0025 - accuracy: 0.9994\n",
            "Epoch 73/100\n",
            "53/53 [==============================] - 0s 5ms/step - loss: 0.0043 - accuracy: 0.9991\n",
            "Epoch 74/100\n",
            "53/53 [==============================] - 0s 5ms/step - loss: 0.0015 - accuracy: 0.9998\n",
            "Epoch 75/100\n",
            "53/53 [==============================] - 0s 5ms/step - loss: 0.0017 - accuracy: 0.9997\n",
            "Epoch 76/100\n",
            "53/53 [==============================] - 0s 5ms/step - loss: 0.0029 - accuracy: 0.9993\n",
            "Epoch 77/100\n",
            "53/53 [==============================] - 0s 5ms/step - loss: 0.0064 - accuracy: 0.9983\n",
            "Epoch 78/100\n",
            "53/53 [==============================] - 0s 5ms/step - loss: 0.0197 - accuracy: 0.9940\n",
            "Epoch 79/100\n",
            "53/53 [==============================] - 0s 4ms/step - loss: 0.1977 - accuracy: 0.9402\n",
            "Epoch 80/100\n",
            "53/53 [==============================] - 0s 5ms/step - loss: 0.0742 - accuracy: 0.9744\n",
            "Epoch 81/100\n",
            "53/53 [==============================] - 0s 4ms/step - loss: 0.0399 - accuracy: 0.9906\n",
            "Epoch 82/100\n",
            "53/53 [==============================] - 0s 5ms/step - loss: 0.0192 - accuracy: 0.9954\n",
            "Epoch 83/100\n",
            "53/53 [==============================] - 0s 4ms/step - loss: 0.0059 - accuracy: 0.9988\n",
            "Epoch 84/100\n",
            "53/53 [==============================] - 0s 5ms/step - loss: 0.0038 - accuracy: 0.9993\n",
            "Epoch 85/100\n",
            "53/53 [==============================] - 0s 4ms/step - loss: 0.0041 - accuracy: 0.9993\n",
            "Epoch 86/100\n",
            "53/53 [==============================] - 0s 4ms/step - loss: 0.0026 - accuracy: 0.9997\n",
            "Epoch 87/100\n",
            "53/53 [==============================] - 0s 5ms/step - loss: 0.0024 - accuracy: 0.9995\n",
            "Epoch 88/100\n",
            "53/53 [==============================] - 0s 5ms/step - loss: 0.0061 - accuracy: 0.9986\n",
            "Epoch 89/100\n",
            "53/53 [==============================] - 0s 4ms/step - loss: 0.0022 - accuracy: 0.9996\n",
            "Epoch 90/100\n",
            "53/53 [==============================] - 0s 5ms/step - loss: 0.0024 - accuracy: 0.9991\n",
            "Epoch 91/100\n",
            "53/53 [==============================] - 0s 5ms/step - loss: 0.0033 - accuracy: 0.9994\n",
            "Epoch 92/100\n",
            "53/53 [==============================] - 0s 5ms/step - loss: 0.0016 - accuracy: 0.9996\n",
            "Epoch 93/100\n",
            "53/53 [==============================] - 0s 4ms/step - loss: 0.0038 - accuracy: 0.9983\n",
            "Epoch 94/100\n",
            "53/53 [==============================] - 0s 5ms/step - loss: 0.0015 - accuracy: 0.9996\n",
            "Epoch 95/100\n",
            "53/53 [==============================] - 0s 5ms/step - loss: 0.0036 - accuracy: 0.9989\n",
            "Epoch 96/100\n",
            "53/53 [==============================] - 0s 5ms/step - loss: 0.0030 - accuracy: 0.9990\n",
            "Epoch 97/100\n",
            "53/53 [==============================] - 0s 5ms/step - loss: 0.0034 - accuracy: 0.9990\n",
            "Epoch 98/100\n",
            "53/53 [==============================] - 0s 5ms/step - loss: 0.0021 - accuracy: 0.9999\n",
            "Epoch 99/100\n",
            "53/53 [==============================] - 0s 5ms/step - loss: 0.0025 - accuracy: 0.9995\n",
            "Epoch 100/100\n",
            "53/53 [==============================] - 0s 5ms/step - loss: 0.0021 - accuracy: 0.9994\n"
          ],
          "name": "stdout"
        }
      ]
    },
    {
      "cell_type": "code",
      "metadata": {
        "colab": {
          "base_uri": "https://localhost:8080/"
        },
        "id": "vGGOWgZ5CubI",
        "outputId": "7ccccb03-29a4-4724-b642-93638dccd2c2"
      },
      "source": [
        "test_loss, test_acc  = model.evaluate(X_test, y_test, batch_size=128)"
      ],
      "execution_count": 27,
      "outputs": [
        {
          "output_type": "stream",
          "text": [
            "26/26 [==============================] - 0s 3ms/step - loss: 0.5852 - accuracy: 0.8893\n"
          ],
          "name": "stdout"
        }
      ]
    },
    {
      "cell_type": "code",
      "metadata": {
        "colab": {
          "base_uri": "https://localhost:8080/"
        },
        "id": "TpPvZR9KC7RC",
        "outputId": "0f505747-be0d-471a-9e8a-1cc528320ad7"
      },
      "source": [
        "print(\"The test loss is :\",test_loss, \"\\nThe test accuracy is :\",test_acc)"
      ],
      "execution_count": 28,
      "outputs": [
        {
          "output_type": "stream",
          "text": [
            "The test loss is : 0.5852051973342896 \n",
            "The test accuracy is : 0.8892933130264282\n"
          ],
          "name": "stdout"
        }
      ]
    },
    {
      "cell_type": "code",
      "metadata": {
        "colab": {
          "base_uri": "https://localhost:8080/"
        },
        "id": "TJYesEUhDUTl",
        "outputId": "f1ef14de-5892-4d2f-ef4d-d0c146b0dd35"
      },
      "source": [
        "model.summary()"
      ],
      "execution_count": 29,
      "outputs": [
        {
          "output_type": "stream",
          "text": [
            "Model: \"sequential\"\n",
            "_________________________________________________________________\n",
            "Layer (type)                 Output Shape              Param #   \n",
            "=================================================================\n",
            "dense (Dense)                (None, 256)               15104     \n",
            "_________________________________________________________________\n",
            "dense_1 (Dense)              (None, 128)               32896     \n",
            "_________________________________________________________________\n",
            "dense_2 (Dense)              (None, 64)                8256      \n",
            "_________________________________________________________________\n",
            "dense_3 (Dense)              (None, 10)                650       \n",
            "=================================================================\n",
            "Total params: 56,906\n",
            "Trainable params: 56,906\n",
            "Non-trainable params: 0\n",
            "_________________________________________________________________\n"
          ],
          "name": "stdout"
        }
      ]
    },
    {
      "cell_type": "code",
      "metadata": {
        "colab": {
          "base_uri": "https://localhost:8080/",
          "height": 415
        },
        "id": "Jo5lNn51KcPy",
        "outputId": "382aa59c-d509-4772-dac7-451ab6eebd12"
      },
      "source": [
        "hist"
      ],
      "execution_count": 32,
      "outputs": [
        {
          "output_type": "execute_result",
          "data": {
            "text/html": [
              "<div>\n",
              "<style scoped>\n",
              "    .dataframe tbody tr th:only-of-type {\n",
              "        vertical-align: middle;\n",
              "    }\n",
              "\n",
              "    .dataframe tbody tr th {\n",
              "        vertical-align: top;\n",
              "    }\n",
              "\n",
              "    .dataframe thead th {\n",
              "        text-align: right;\n",
              "    }\n",
              "</style>\n",
              "<table border=\"1\" class=\"dataframe\">\n",
              "  <thead>\n",
              "    <tr style=\"text-align: right;\">\n",
              "      <th></th>\n",
              "      <th>loss</th>\n",
              "      <th>accuracy</th>\n",
              "    </tr>\n",
              "  </thead>\n",
              "  <tbody>\n",
              "    <tr>\n",
              "      <th>0</th>\n",
              "      <td>1.496561</td>\n",
              "      <td>0.474675</td>\n",
              "    </tr>\n",
              "    <tr>\n",
              "      <th>1</th>\n",
              "      <td>0.900662</td>\n",
              "      <td>0.688779</td>\n",
              "    </tr>\n",
              "    <tr>\n",
              "      <th>2</th>\n",
              "      <td>0.694825</td>\n",
              "      <td>0.769909</td>\n",
              "    </tr>\n",
              "    <tr>\n",
              "      <th>3</th>\n",
              "      <td>0.572056</td>\n",
              "      <td>0.808755</td>\n",
              "    </tr>\n",
              "    <tr>\n",
              "      <th>4</th>\n",
              "      <td>0.486700</td>\n",
              "      <td>0.836695</td>\n",
              "    </tr>\n",
              "    <tr>\n",
              "      <th>...</th>\n",
              "      <td>...</td>\n",
              "      <td>...</td>\n",
              "    </tr>\n",
              "    <tr>\n",
              "      <th>95</th>\n",
              "      <td>0.002315</td>\n",
              "      <td>0.999253</td>\n",
              "    </tr>\n",
              "    <tr>\n",
              "      <th>96</th>\n",
              "      <td>0.004280</td>\n",
              "      <td>0.998655</td>\n",
              "    </tr>\n",
              "    <tr>\n",
              "      <th>97</th>\n",
              "      <td>0.002611</td>\n",
              "      <td>0.999402</td>\n",
              "    </tr>\n",
              "    <tr>\n",
              "      <th>98</th>\n",
              "      <td>0.002423</td>\n",
              "      <td>0.999253</td>\n",
              "    </tr>\n",
              "    <tr>\n",
              "      <th>99</th>\n",
              "      <td>0.002734</td>\n",
              "      <td>0.999402</td>\n",
              "    </tr>\n",
              "  </tbody>\n",
              "</table>\n",
              "<p>100 rows × 2 columns</p>\n",
              "</div>"
            ],
            "text/plain": [
              "        loss  accuracy\n",
              "0   1.496561  0.474675\n",
              "1   0.900662  0.688779\n",
              "2   0.694825  0.769909\n",
              "3   0.572056  0.808755\n",
              "4   0.486700  0.836695\n",
              "..       ...       ...\n",
              "95  0.002315  0.999253\n",
              "96  0.004280  0.998655\n",
              "97  0.002611  0.999402\n",
              "98  0.002423  0.999253\n",
              "99  0.002734  0.999402\n",
              "\n",
              "[100 rows x 2 columns]"
            ]
          },
          "metadata": {
            "tags": []
          },
          "execution_count": 32
        }
      ]
    },
    {
      "cell_type": "code",
      "metadata": {
        "colab": {
          "base_uri": "https://localhost:8080/",
          "height": 283
        },
        "id": "LpSVhBRHKIoP",
        "outputId": "ed319b20-3294-4443-ed67-325a079eb1a5"
      },
      "source": [
        "plt.plot(hist['loss'])"
      ],
      "execution_count": 33,
      "outputs": [
        {
          "output_type": "execute_result",
          "data": {
            "text/plain": [
              "[<matplotlib.lines.Line2D at 0x7f2b33b2c150>]"
            ]
          },
          "metadata": {
            "tags": []
          },
          "execution_count": 33
        },
        {
          "output_type": "display_data",
          "data": {
            "image/png": "[encoded data removed]",
            "text/plain": [
              "<Figure size 432x288 with 1 Axes>"
            ]
          },
          "metadata": {
            "tags": [],
            "needs_background": "light"
          }
        }
      ]
    },
    {
      "cell_type": "code",
      "metadata": {
        "id": "n01STHRLM1W2"
      },
      "source": [
        ""
      ],
      "execution_count": null,
      "outputs": []
    }
  ]
}